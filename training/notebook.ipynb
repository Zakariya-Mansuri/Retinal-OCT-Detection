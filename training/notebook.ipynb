{
 "cells": [
  {
   "cell_type": "code",
   "execution_count": 1,
   "id": "89b72f6b",
   "metadata": {
    "execution": {
     "iopub.execute_input": "2022-12-03T15:47:26.880248Z",
     "iopub.status.busy": "2022-12-03T15:47:26.879729Z",
     "iopub.status.idle": "2022-12-03T15:47:31.485916Z",
     "shell.execute_reply": "2022-12-03T15:47:31.484762Z"
    },
    "papermill": {
     "duration": 4.617683,
     "end_time": "2022-12-03T15:47:31.489538",
     "exception": false,
     "start_time": "2022-12-03T15:47:26.871855",
     "status": "completed"
    },
    "tags": []
   },
   "outputs": [],
   "source": [
    "import numpy as np\n",
    "import pandas as pd\n",
    "import matplotlib.pyplot as plt\n",
    "# import cv\n",
    "import os\n",
    "os.environ['TF_CPP_MIN_LOG_LEVEL'] = '3' \n",
    "import tensorflow as tf\n",
    "from tensorflow import keras\n",
    "from tensorflow.keras.applications import ResNet50\n",
    "from tensorflow.keras.optimizers import SGD\n",
    "from tensorflow.keras.preprocessing.image import load_img,ImageDataGenerator,img_to_array"
   ]
  },
  {
   "cell_type": "code",
   "execution_count": 2,
   "id": "7eb2d376",
   "metadata": {
    "execution": {
     "iopub.execute_input": "2022-12-03T15:47:31.508172Z",
     "iopub.status.busy": "2022-12-03T15:47:31.507523Z",
     "iopub.status.idle": "2022-12-03T15:47:31.528273Z",
     "shell.execute_reply": "2022-12-03T15:47:31.527319Z"
    },
    "papermill": {
     "duration": 0.035466,
     "end_time": "2022-12-03T15:47:31.533822",
     "exception": false,
     "start_time": "2022-12-03T15:47:31.498356",
     "status": "completed"
    },
    "tags": []
   },
   "outputs": [
    {
     "name": "stdout",
     "output_type": "stream",
     "text": [
      "base directory ----> ['val', 'test', 'train']\n"
     ]
    }
   ],
   "source": [
    "path = \"../input/kermany2018/OCT2017 /\"\n",
    "base_dir = os.path.join(\"../input/kermany2018/OCT2017 /\") \n",
    "print('base directory ---->', os.listdir(path))\n",
    "\n",
    "# os.listdir(path) is used for listing the directories under the folder"
   ]
  },
  {
   "cell_type": "code",
   "execution_count": 3,
   "id": "fda081c4",
   "metadata": {
    "execution": {
     "iopub.execute_input": "2022-12-03T15:47:31.551423Z",
     "iopub.status.busy": "2022-12-03T15:47:31.551007Z",
     "iopub.status.idle": "2022-12-03T15:47:31.567528Z",
     "shell.execute_reply": "2022-12-03T15:47:31.566197Z"
    },
    "papermill": {
     "duration": 0.027922,
     "end_time": "2022-12-03T15:47:31.570344",
     "exception": false,
     "start_time": "2022-12-03T15:47:31.542422",
     "status": "completed"
    },
    "tags": []
   },
   "outputs": [
    {
     "name": "stdout",
     "output_type": "stream",
     "text": [
      "['DRUSEN', 'CNV', 'NORMAL', 'DME']\n"
     ]
    }
   ],
   "source": [
    "test_dir = os.path.join(path + \"test/\")\n",
    "print(os.listdir(test_dir))"
   ]
  },
  {
   "cell_type": "code",
   "execution_count": 4,
   "id": "2c9e05ec",
   "metadata": {
    "execution": {
     "iopub.execute_input": "2022-12-03T15:47:31.586861Z",
     "iopub.status.busy": "2022-12-03T15:47:31.586450Z",
     "iopub.status.idle": "2022-12-03T15:47:31.602177Z",
     "shell.execute_reply": "2022-12-03T15:47:31.601258Z"
    },
    "papermill": {
     "duration": 0.027287,
     "end_time": "2022-12-03T15:47:31.605315",
     "exception": false,
     "start_time": "2022-12-03T15:47:31.578028",
     "status": "completed"
    },
    "tags": []
   },
   "outputs": [
    {
     "name": "stdout",
     "output_type": "stream",
     "text": [
      "['DRUSEN', 'CNV', 'NORMAL', 'DME']\n"
     ]
    }
   ],
   "source": [
    "train_dir = os.path.join(path + \"train/\")\n",
    "print(os.listdir(train_dir))# This path is used for listing the directories under the folder"
   ]
  },
  {
   "cell_type": "code",
   "execution_count": 5,
   "id": "0b520505",
   "metadata": {
    "execution": {
     "iopub.execute_input": "2022-12-03T15:47:31.620908Z",
     "iopub.status.busy": "2022-12-03T15:47:31.620493Z",
     "iopub.status.idle": "2022-12-03T15:47:31.630605Z",
     "shell.execute_reply": "2022-12-03T15:47:31.629829Z"
    },
    "papermill": {
     "duration": 0.021972,
     "end_time": "2022-12-03T15:47:31.634435",
     "exception": false,
     "start_time": "2022-12-03T15:47:31.612463",
     "status": "completed"
    },
    "tags": []
   },
   "outputs": [
    {
     "name": "stdout",
     "output_type": "stream",
     "text": [
      "['DRUSEN', 'CNV', 'NORMAL', 'DME']\n"
     ]
    }
   ],
   "source": [
    "val_dir = os.path.join(path + \"val/\")\n",
    "print(os.listdir(val_dir))# This path is used for listing the directories under the folder"
   ]
  },
  {
   "cell_type": "code",
   "execution_count": 6,
   "id": "bbd6ec73",
   "metadata": {
    "execution": {
     "iopub.execute_input": "2022-12-03T15:47:31.651873Z",
     "iopub.status.busy": "2022-12-03T15:47:31.651515Z",
     "iopub.status.idle": "2022-12-03T15:47:31.659021Z",
     "shell.execute_reply": "2022-12-03T15:47:31.657916Z"
    },
    "papermill": {
     "duration": 0.018557,
     "end_time": "2022-12-03T15:47:31.661739",
     "exception": false,
     "start_time": "2022-12-03T15:47:31.643182",
     "status": "completed"
    },
    "tags": []
   },
   "outputs": [],
   "source": [
    "def image_show(x):\n",
    "    for i in range(3):\n",
    "        plt.subplot(330 + 1 + i)\n",
    "        batch = x.next()\n",
    "        image = batch[0].astype('uint8')\n",
    "        plt.imshow(image)\n",
    "    plt.show()"
   ]
  },
  {
   "cell_type": "markdown",
   "id": "32aa5100",
   "metadata": {
    "papermill": {
     "duration": 0.007144,
     "end_time": "2022-12-03T15:47:31.676332",
     "exception": false,
     "start_time": "2022-12-03T15:47:31.669188",
     "status": "completed"
    },
    "tags": []
   },
   "source": [
    "# Data Augumentation"
   ]
  },
  {
   "cell_type": "code",
   "execution_count": 7,
   "id": "d002e386",
   "metadata": {
    "execution": {
     "iopub.execute_input": "2022-12-03T15:47:31.693708Z",
     "iopub.status.busy": "2022-12-03T15:47:31.693304Z",
     "iopub.status.idle": "2022-12-03T15:47:31.698355Z",
     "shell.execute_reply": "2022-12-03T15:47:31.697254Z"
    },
    "papermill": {
     "duration": 0.017695,
     "end_time": "2022-12-03T15:47:31.701430",
     "exception": false,
     "start_time": "2022-12-03T15:47:31.683735",
     "status": "completed"
    },
    "tags": []
   },
   "outputs": [],
   "source": [
    "# Zoom\n",
    "train_zoom = ImageDataGenerator(\n",
    "    zoom_range = 0.5,\n",
    "    horizontal_flip = True)"
   ]
  },
  {
   "cell_type": "code",
   "execution_count": 8,
   "id": "f79fcda7",
   "metadata": {
    "execution": {
     "iopub.execute_input": "2022-12-03T15:47:31.716904Z",
     "iopub.status.busy": "2022-12-03T15:47:31.716506Z",
     "iopub.status.idle": "2022-12-03T15:47:31.721489Z",
     "shell.execute_reply": "2022-12-03T15:47:31.720394Z"
    },
    "papermill": {
     "duration": 0.015982,
     "end_time": "2022-12-03T15:47:31.724572",
     "exception": false,
     "start_time": "2022-12-03T15:47:31.708590",
     "status": "completed"
    },
    "tags": []
   },
   "outputs": [],
   "source": [
    "# Flipping the Image\n",
    "train_flip = ImageDataGenerator(\n",
    "    horizontal_flip = True,\n",
    "    vertical_flip = True)"
   ]
  },
  {
   "cell_type": "markdown",
   "id": "9bc14c3d",
   "metadata": {
    "papermill": {
     "duration": 0.014708,
     "end_time": "2022-12-03T15:47:31.747345",
     "exception": false,
     "start_time": "2022-12-03T15:47:31.732637",
     "status": "completed"
    },
    "tags": []
   },
   "source": [
    "ImageDataGenerator() is used for Generating Data with data Augumentation"
   ]
  },
  {
   "cell_type": "code",
   "execution_count": 9,
   "id": "db66da24",
   "metadata": {
    "execution": {
     "iopub.execute_input": "2022-12-03T15:47:31.770228Z",
     "iopub.status.busy": "2022-12-03T15:47:31.769720Z",
     "iopub.status.idle": "2022-12-03T15:47:31.818460Z",
     "shell.execute_reply": "2022-12-03T15:47:31.817330Z"
    },
    "papermill": {
     "duration": 0.064585,
     "end_time": "2022-12-03T15:47:31.821457",
     "exception": false,
     "start_time": "2022-12-03T15:47:31.756872",
     "status": "completed"
    },
    "tags": []
   },
   "outputs": [
    {
     "name": "stdout",
     "output_type": "stream",
     "text": [
      "Image size (1, 496, 512, 3)\n"
     ]
    }
   ],
   "source": [
    "image = load_img('../input/kermany2018/OCT2017 /test/CNV/CNV-1290410-1.jpeg')\n",
    "f = img_to_array(image)\n",
    "sample = np.expand_dims(f,axis = 0)\n",
    "print('Image size', sample.shape)"
   ]
  },
  {
   "cell_type": "markdown",
   "id": "59a3c54f",
   "metadata": {
    "papermill": {
     "duration": 0.004919,
     "end_time": "2022-12-03T15:47:31.831722",
     "exception": false,
     "start_time": "2022-12-03T15:47:31.826803",
     "status": "completed"
    },
    "tags": []
   },
   "source": [
    "np.expand_dims() Insert a new axis that will appear at the axis position in the expanded array shape.\n",
    "\n",
    "load_img() is used for lading image in  PIL Format"
   ]
  },
  {
   "cell_type": "code",
   "execution_count": 10,
   "id": "fbe76a3b",
   "metadata": {
    "execution": {
     "iopub.execute_input": "2022-12-03T15:47:31.842947Z",
     "iopub.status.busy": "2022-12-03T15:47:31.842674Z",
     "iopub.status.idle": "2022-12-03T15:47:32.348152Z",
     "shell.execute_reply": "2022-12-03T15:47:32.347201Z"
    },
    "papermill": {
     "duration": 0.513442,
     "end_time": "2022-12-03T15:47:32.350270",
     "exception": false,
     "start_time": "2022-12-03T15:47:31.836828",
     "status": "completed"
    },
    "tags": []
   },
   "outputs": [
    {
     "name": "stdout",
     "output_type": "stream",
     "text": [
      "Zoom Image\n"
     ]
    },
    {
     "data": {
      "image/png": "[encoded data removed]",
      "text/plain": [
       "<Figure size 432x288 with 3 Axes>"
      ]
     },
     "metadata": {
      "needs_background": "light"
     },
     "output_type": "display_data"
    }
   ],
   "source": [
    "print(\"Zoom Image\")\n",
    "train_generator_zoom = train_zoom.flow(sample, batch_size = 1)\n",
    "zoom = image_show(train_generator_zoom)"
   ]
  },
  {
   "cell_type": "code",
   "execution_count": 11,
   "id": "76facad4",
   "metadata": {
    "execution": {
     "iopub.execute_input": "2022-12-03T15:47:32.363946Z",
     "iopub.status.busy": "2022-12-03T15:47:32.363281Z",
     "iopub.status.idle": "2022-12-03T15:47:32.855591Z",
     "shell.execute_reply": "2022-12-03T15:47:32.854545Z"
    },
    "papermill": {
     "duration": 0.501553,
     "end_time": "2022-12-03T15:47:32.857710",
     "exception": false,
     "start_time": "2022-12-03T15:47:32.356157",
     "status": "completed"
    },
    "tags": []
   },
   "outputs": [
    {
     "name": "stdout",
     "output_type": "stream",
     "text": [
      "Flip Image\n"
     ]
    },
    {
     "data": {
      "image/png": "[encoded data removed]",
      "text/plain": [
       "<Figure size 432x288 with 3 Axes>"
      ]
     },
     "metadata": {
      "needs_background": "light"
     },
     "output_type": "display_data"
    }
   ],
   "source": [
    "print(\"Flip Image\")\n",
    "train_generator_flip = train_flip.flow(sample,batch_size = 1)\n",
    "flip = image_show(train_generator_flip)"
   ]
  },
  {
   "cell_type": "code",
   "execution_count": 12,
   "id": "8b67a617",
   "metadata": {
    "execution": {
     "iopub.execute_input": "2022-12-03T15:47:32.871128Z",
     "iopub.status.busy": "2022-12-03T15:47:32.870346Z",
     "iopub.status.idle": "2022-12-03T15:47:32.875055Z",
     "shell.execute_reply": "2022-12-03T15:47:32.874129Z"
    },
    "papermill": {
     "duration": 0.013381,
     "end_time": "2022-12-03T15:47:32.877111",
     "exception": false,
     "start_time": "2022-12-03T15:47:32.863730",
     "status": "completed"
    },
    "tags": []
   },
   "outputs": [],
   "source": [
    "img_height = 224\n",
    "img_width = 224\n",
    "batch_size = 64"
   ]
  },
  {
   "cell_type": "code",
   "execution_count": 13,
   "id": "c8598da4",
   "metadata": {
    "execution": {
     "iopub.execute_input": "2022-12-03T15:47:32.889571Z",
     "iopub.status.busy": "2022-12-03T15:47:32.889304Z",
     "iopub.status.idle": "2022-12-03T15:48:57.236367Z",
     "shell.execute_reply": "2022-12-03T15:48:57.235155Z"
    },
    "papermill": {
     "duration": 84.356307,
     "end_time": "2022-12-03T15:48:57.239172",
     "exception": false,
     "start_time": "2022-12-03T15:47:32.882865",
     "status": "completed"
    },
    "tags": []
   },
   "outputs": [
    {
     "name": "stdout",
     "output_type": "stream",
     "text": [
      "Found 83484 images belonging to 4 classes.\n",
      "Found 968 images belonging to 4 classes.\n",
      "Found 32 images belonging to 4 classes.\n"
     ]
    }
   ],
   "source": [
    "train_datagen = ImageDataGenerator(rescale = 1/255,\n",
    "                                  shear_range = 0.2,\n",
    "                                  zoom_range = 0.2,\n",
    "                                  horizontal_flip = True)\n",
    "\n",
    "train_generator = train_datagen.flow_from_directory(\n",
    "    train_dir,\n",
    "    target_size = (img_height,img_width),\n",
    "    batch_size = batch_size,\n",
    "    class_mode = 'categorical',\n",
    "    subset = 'training')\n",
    "\n",
    "test_generator = train_datagen.flow_from_directory(\n",
    "    test_dir,\n",
    "    target_size = (img_height, img_width),\n",
    "    batch_size = batch_size,\n",
    "    class_mode = 'categorical')\n",
    "\n",
    "validation_generator = train_datagen.flow_from_directory(\n",
    "    val_dir,\n",
    "    target_size = (img_height, img_width),\n",
    "    batch_size = batch_size,\n",
    "    class_mode = 'categorical')"
   ]
  },
  {
   "cell_type": "markdown",
   "id": "595571f1",
   "metadata": {
    "papermill": {
     "duration": 0.005711,
     "end_time": "2022-12-03T15:48:57.251508",
     "exception": false,
     "start_time": "2022-12-03T15:48:57.245797",
     "status": "completed"
    },
    "tags": []
   },
   "source": [
    "flow_from_directory() Takes the path to a directory & generates batches of augmented data."
   ]
  },
  {
   "cell_type": "code",
   "execution_count": 14,
   "id": "47138fe9",
   "metadata": {
    "execution": {
     "iopub.execute_input": "2022-12-03T15:48:57.275735Z",
     "iopub.status.busy": "2022-12-03T15:48:57.275429Z",
     "iopub.status.idle": "2022-12-03T15:48:57.281218Z",
     "shell.execute_reply": "2022-12-03T15:48:57.280334Z"
    },
    "papermill": {
     "duration": 0.014499,
     "end_time": "2022-12-03T15:48:57.283189",
     "exception": false,
     "start_time": "2022-12-03T15:48:57.268690",
     "status": "completed"
    },
    "tags": []
   },
   "outputs": [],
   "source": [
    "# from keras.models import  Model\n",
    "from tensorflow.keras import Sequential\n",
    "from tensorflow.keras.layers import Conv2D, MaxPooling2D,Activation,Dropout,Flatten,Dense, InputLayer"
   ]
  },
  {
   "cell_type": "markdown",
   "id": "ba87b445",
   "metadata": {
    "papermill": {
     "duration": 0.00559,
     "end_time": "2022-12-03T15:48:57.294711",
     "exception": false,
     "start_time": "2022-12-03T15:48:57.289121",
     "status": "completed"
    },
    "tags": []
   },
   "source": [
    "# Model"
   ]
  },
  {
   "cell_type": "code",
   "execution_count": 15,
   "id": "9032566b",
   "metadata": {
    "execution": {
     "iopub.execute_input": "2022-12-03T15:48:57.308078Z",
     "iopub.status.busy": "2022-12-03T15:48:57.307249Z",
     "iopub.status.idle": "2022-12-03T15:49:00.411111Z",
     "shell.execute_reply": "2022-12-03T15:49:00.409530Z"
    },
    "papermill": {
     "duration": 3.113445,
     "end_time": "2022-12-03T15:49:00.413922",
     "exception": false,
     "start_time": "2022-12-03T15:48:57.300477",
     "status": "completed"
    },
    "tags": []
   },
   "outputs": [
    {
     "name": "stdout",
     "output_type": "stream",
     "text": [
      "Model: \"sequential\"\n",
      "_________________________________________________________________\n",
      "Layer (type)                 Output Shape              Param #   \n",
      "=================================================================\n",
      "conv2d (Conv2D)              (None, 220, 220, 32)      2432      \n",
      "_________________________________________________________________\n",
      "conv2d_1 (Conv2D)            (None, 216, 216, 32)      25632     \n",
      "_________________________________________________________________\n",
      "conv2d_2 (Conv2D)            (None, 213, 213, 64)      32832     \n",
      "_________________________________________________________________\n",
      "conv2d_3 (Conv2D)            (None, 210, 210, 64)      65600     \n",
      "_________________________________________________________________\n",
      "max_pooling2d (MaxPooling2D) (None, 105, 105, 64)      0         \n",
      "_________________________________________________________________\n",
      "dropout (Dropout)            (None, 105, 105, 64)      0         \n",
      "_________________________________________________________________\n",
      "conv2d_4 (Conv2D)            (None, 101, 101, 32)      51232     \n",
      "_________________________________________________________________\n",
      "conv2d_5 (Conv2D)            (None, 98, 98, 64)        32832     \n",
      "_________________________________________________________________\n",
      "conv2d_6 (Conv2D)            (None, 95, 95, 64)        65600     \n",
      "_________________________________________________________________\n",
      "max_pooling2d_1 (MaxPooling2 (None, 47, 47, 64)        0         \n",
      "_________________________________________________________________\n",
      "dropout_1 (Dropout)          (None, 47, 47, 64)        0         \n",
      "_________________________________________________________________\n",
      "conv2d_7 (Conv2D)            (None, 44, 44, 32)        32800     \n",
      "_________________________________________________________________\n",
      "max_pooling2d_2 (MaxPooling2 (None, 22, 22, 32)        0         \n",
      "_________________________________________________________________\n",
      "conv2d_8 (Conv2D)            (None, 20, 20, 64)        18496     \n",
      "_________________________________________________________________\n",
      "conv2d_9 (Conv2D)            (None, 18, 18, 64)        36928     \n",
      "_________________________________________________________________\n",
      "max_pooling2d_3 (MaxPooling2 (None, 9, 9, 64)          0         \n",
      "_________________________________________________________________\n",
      "dropout_2 (Dropout)          (None, 9, 9, 64)          0         \n",
      "_________________________________________________________________\n",
      "flatten (Flatten)            (None, 5184)              0         \n",
      "_________________________________________________________________\n",
      "dense (Dense)                (None, 1024)              5309440   \n",
      "_________________________________________________________________\n",
      "dropout_3 (Dropout)          (None, 1024)              0         \n",
      "_________________________________________________________________\n",
      "dense_1 (Dense)              (None, 512)               524800    \n",
      "_________________________________________________________________\n",
      "dropout_4 (Dropout)          (None, 512)               0         \n",
      "_________________________________________________________________\n",
      "dense_2 (Dense)              (None, 4)                 2052      \n",
      "=================================================================\n",
      "Total params: 6,200,676\n",
      "Trainable params: 6,200,676\n",
      "Non-trainable params: 0\n",
      "_________________________________________________________________\n"
     ]
    },
    {
     "name": "stderr",
     "output_type": "stream",
     "text": [
      "/opt/conda/lib/python3.7/site-packages/keras/optimizer_v2/optimizer_v2.py:356: UserWarning: The `lr` argument is deprecated, use `learning_rate` instead.\n",
      "  \"The `lr` argument is deprecated, use `learning_rate` instead.\")\n"
     ]
    }
   ],
   "source": [
    "model = Sequential()\n",
    "model.add((Conv2D(32,kernel_size = 5,input_shape=(img_height,img_width,3),activation=\"relu\")))\n",
    "model.add((Conv2D(32,kernel_size = 5,activation=\"relu\")))\n",
    "model.add((Conv2D(64,kernel_size = 4,activation=\"relu\")))\n",
    "model.add((Conv2D(64,kernel_size = 4,activation=\"relu\")))\n",
    "model.add(MaxPooling2D(pool_size=2))\n",
    "model.add(Dropout(0.2))\n",
    "\n",
    "model.add((Conv2D(32,kernel_size = 5,activation=\"relu\")))\n",
    "model.add((Conv2D(64,kernel_size = 4,activation=\"relu\")))\n",
    "model.add((Conv2D(64,kernel_size = 4,activation=\"relu\")))\n",
    "model.add(MaxPooling2D(pool_size=2))\n",
    "model.add(Dropout(0.2))\n",
    "\n",
    "model.add((Conv2D(32,kernel_size = 4,activation=\"relu\")))\n",
    "model.add(MaxPooling2D(pool_size=2))\n",
    "model.add((Conv2D(64,kernel_size = 3,activation=\"relu\")))\n",
    "model.add((Conv2D(64,kernel_size = 3,activation=\"relu\")))\n",
    "model.add(MaxPooling2D(pool_size=2))\n",
    "model.add(Dropout(0.2))\n",
    "\n",
    "model.add(Flatten())\n",
    "model.add(Dense(1024,activation=\"relu\"))\n",
    "model.add(Dropout(0.2))\n",
    "model.add(Dense(512,activation=\"relu\"))\n",
    "model.add(Dropout(0.2))\n",
    "model.add(Dense(4,activation=\"softmax\"))\n",
    "\n",
    "# model.summary()\n",
    "\n",
    "model.compile(optimizer = SGD(lr=0.001,momentum = 0.9),loss=\"categorical_crossentropy\",metrics=['accuracy'])\n",
    "# model.build(input_shape = (img_height,img_width,3))\n",
    "model.summary()"
   ]
  },
  {
   "cell_type": "markdown",
   "id": "8e285fc1",
   "metadata": {
    "papermill": {
     "duration": 0.00643,
     "end_time": "2022-12-03T15:49:00.427098",
     "exception": false,
     "start_time": "2022-12-03T15:49:00.420668",
     "status": "completed"
    },
    "tags": []
   },
   "source": [
    "# training model"
   ]
  },
  {
   "cell_type": "code",
   "execution_count": 16,
   "id": "86740406",
   "metadata": {
    "execution": {
     "iopub.execute_input": "2022-12-03T15:49:00.441179Z",
     "iopub.status.busy": "2022-12-03T15:49:00.440362Z",
     "iopub.status.idle": "2022-12-03T15:49:00.445128Z",
     "shell.execute_reply": "2022-12-03T15:49:00.444207Z"
    },
    "papermill": {
     "duration": 0.013663,
     "end_time": "2022-12-03T15:49:00.447104",
     "exception": false,
     "start_time": "2022-12-03T15:49:00.433441",
     "status": "completed"
    },
    "tags": []
   },
   "outputs": [],
   "source": [
    "from keras.callbacks import EarlyStopping\n",
    "earlystop = EarlyStopping(monitor='val_acc', patience=5)"
   ]
  },
  {
   "cell_type": "code",
   "execution_count": 17,
   "id": "7629e732",
   "metadata": {
    "execution": {
     "iopub.execute_input": "2022-12-03T15:49:00.460314Z",
     "iopub.status.busy": "2022-12-03T15:49:00.460047Z",
     "iopub.status.idle": "2022-12-03T23:04:02.820059Z",
     "shell.execute_reply": "2022-12-03T23:04:02.818916Z"
    },
    "papermill": {
     "duration": 26102.370361,
     "end_time": "2022-12-03T23:04:02.823543",
     "exception": false,
     "start_time": "2022-12-03T15:49:00.453182",
     "status": "completed"
    },
    "tags": []
   },
   "outputs": [
    {
     "name": "stderr",
     "output_type": "stream",
     "text": [
      "/opt/conda/lib/python3.7/site-packages/keras/engine/training.py:1972: UserWarning: `Model.fit_generator` is deprecated and will be removed in a future version. Please use `Model.fit`, which supports generators.\n",
      "  warnings.warn('`Model.fit_generator` is deprecated and '\n"
     ]
    },
    {
     "name": "stdout",
     "output_type": "stream",
     "text": [
      "Epoch 1/100\n",
      "104/104 [==============================] - 232s 2s/step - loss: 1.2957 - accuracy: 0.4425 - val_loss: 1.4966 - val_accuracy: 0.2500\n",
      "Epoch 2/100\n",
      "104/104 [==============================] - 241s 2s/step - loss: 1.2351 - accuracy: 0.4405 - val_loss: 1.5129 - val_accuracy: 0.2500\n",
      "Epoch 3/100\n",
      "104/104 [==============================] - 229s 2s/step - loss: 1.2213 - accuracy: 0.4525 - val_loss: 1.4955 - val_accuracy: 0.2500\n",
      "Epoch 4/100\n",
      "104/104 [==============================] - 234s 2s/step - loss: 1.2215 - accuracy: 0.4482 - val_loss: 1.5245 - val_accuracy: 0.2500\n",
      "Epoch 5/100\n",
      "104/104 [==============================] - 234s 2s/step - loss: 1.2209 - accuracy: 0.4528 - val_loss: 1.4849 - val_accuracy: 0.2500\n",
      "Epoch 6/100\n",
      "104/104 [==============================] - 237s 2s/step - loss: 1.2133 - accuracy: 0.4671 - val_loss: 1.4363 - val_accuracy: 0.4115\n",
      "Epoch 7/100\n",
      "104/104 [==============================] - 235s 2s/step - loss: 1.2018 - accuracy: 0.4893 - val_loss: 1.4482 - val_accuracy: 0.3734\n",
      "Epoch 8/100\n",
      "104/104 [==============================] - 231s 2s/step - loss: 1.1723 - accuracy: 0.5182 - val_loss: 1.3857 - val_accuracy: 0.3594\n",
      "Epoch 9/100\n",
      "104/104 [==============================] - 230s 2s/step - loss: 1.1344 - accuracy: 0.5373 - val_loss: 1.3421 - val_accuracy: 0.4630\n",
      "Epoch 10/100\n",
      "104/104 [==============================] - 235s 2s/step - loss: 1.0693 - accuracy: 0.5918 - val_loss: 1.1371 - val_accuracy: 0.5000\n",
      "Epoch 11/100\n",
      "104/104 [==============================] - 233s 2s/step - loss: 0.9776 - accuracy: 0.6331 - val_loss: 1.0684 - val_accuracy: 0.5000\n",
      "Epoch 12/100\n",
      "104/104 [==============================] - 228s 2s/step - loss: 0.9084 - accuracy: 0.6597 - val_loss: 1.0682 - val_accuracy: 0.5000\n",
      "Epoch 13/100\n",
      "104/104 [==============================] - 231s 2s/step - loss: 0.8719 - accuracy: 0.6737 - val_loss: 0.9766 - val_accuracy: 0.5104\n",
      "Epoch 14/100\n",
      "104/104 [==============================] - 245s 2s/step - loss: 0.8288 - accuracy: 0.6851 - val_loss: 1.0132 - val_accuracy: 0.5063\n",
      "Epoch 15/100\n",
      "104/104 [==============================] - 246s 2s/step - loss: 0.8294 - accuracy: 0.6889 - val_loss: 0.8790 - val_accuracy: 0.5521\n",
      "Epoch 16/100\n",
      "104/104 [==============================] - 246s 2s/step - loss: 0.7766 - accuracy: 0.7102 - val_loss: 0.8800 - val_accuracy: 0.5479\n",
      "Epoch 17/100\n",
      "104/104 [==============================] - 303s 3s/step - loss: 0.7584 - accuracy: 0.7166 - val_loss: 0.8456 - val_accuracy: 0.5443\n",
      "Epoch 18/100\n",
      "104/104 [==============================] - 302s 3s/step - loss: 0.7615 - accuracy: 0.7194 - val_loss: 0.9945 - val_accuracy: 0.5047\n",
      "Epoch 19/100\n",
      "104/104 [==============================] - 245s 2s/step - loss: 0.7440 - accuracy: 0.7219 - val_loss: 0.9043 - val_accuracy: 0.5297\n",
      "Epoch 20/100\n",
      "104/104 [==============================] - 246s 2s/step - loss: 0.7255 - accuracy: 0.7282 - val_loss: 0.8024 - val_accuracy: 0.6010\n",
      "Epoch 21/100\n",
      "104/104 [==============================] - 305s 3s/step - loss: 0.7059 - accuracy: 0.7399 - val_loss: 0.7456 - val_accuracy: 0.6302\n",
      "Epoch 22/100\n",
      "104/104 [==============================] - 246s 2s/step - loss: 0.6987 - accuracy: 0.7408 - val_loss: 0.7068 - val_accuracy: 0.6547\n",
      "Epoch 23/100\n",
      "104/104 [==============================] - 303s 3s/step - loss: 0.6868 - accuracy: 0.7462 - val_loss: 0.6105 - val_accuracy: 0.7245\n",
      "Epoch 24/100\n",
      "104/104 [==============================] - 245s 2s/step - loss: 0.6808 - accuracy: 0.7424 - val_loss: 0.6853 - val_accuracy: 0.6578\n",
      "Epoch 25/100\n",
      "104/104 [==============================] - 247s 2s/step - loss: 0.6868 - accuracy: 0.7456 - val_loss: 0.6778 - val_accuracy: 0.7120\n",
      "Epoch 26/100\n",
      "104/104 [==============================] - 246s 2s/step - loss: 0.6512 - accuracy: 0.7596 - val_loss: 0.7191 - val_accuracy: 0.6641\n",
      "Epoch 27/100\n",
      "104/104 [==============================] - 244s 2s/step - loss: 0.6290 - accuracy: 0.7652 - val_loss: 0.9440 - val_accuracy: 0.6224\n",
      "Epoch 28/100\n",
      "104/104 [==============================] - 243s 2s/step - loss: 0.6361 - accuracy: 0.7626 - val_loss: 0.7545 - val_accuracy: 0.6776\n",
      "Epoch 29/100\n",
      "104/104 [==============================] - 242s 2s/step - loss: 0.6208 - accuracy: 0.7683 - val_loss: 0.6675 - val_accuracy: 0.7370\n",
      "Epoch 30/100\n",
      "104/104 [==============================] - 250s 2s/step - loss: 0.6107 - accuracy: 0.7778 - val_loss: 0.8001 - val_accuracy: 0.6755\n",
      "Epoch 31/100\n",
      "104/104 [==============================] - 247s 2s/step - loss: 0.6158 - accuracy: 0.7727 - val_loss: 0.5984 - val_accuracy: 0.7500\n",
      "Epoch 32/100\n",
      "104/104 [==============================] - 246s 2s/step - loss: 0.6054 - accuracy: 0.7766 - val_loss: 0.5868 - val_accuracy: 0.7276\n",
      "Epoch 33/100\n",
      "104/104 [==============================] - 250s 2s/step - loss: 0.5822 - accuracy: 0.7843 - val_loss: 0.7192 - val_accuracy: 0.7063\n",
      "Epoch 34/100\n",
      "104/104 [==============================] - 251s 2s/step - loss: 0.5992 - accuracy: 0.7800 - val_loss: 0.6566 - val_accuracy: 0.7208\n",
      "Epoch 35/100\n",
      "104/104 [==============================] - 249s 2s/step - loss: 0.5629 - accuracy: 0.7934 - val_loss: 0.5994 - val_accuracy: 0.7760\n",
      "Epoch 36/100\n",
      "104/104 [==============================] - 252s 2s/step - loss: 0.5663 - accuracy: 0.7931 - val_loss: 0.6193 - val_accuracy: 0.7026\n",
      "Epoch 37/100\n",
      "104/104 [==============================] - 249s 2s/step - loss: 0.5506 - accuracy: 0.8045 - val_loss: 0.5981 - val_accuracy: 0.7479\n",
      "Epoch 38/100\n",
      "104/104 [==============================] - 252s 2s/step - loss: 0.5368 - accuracy: 0.8066 - val_loss: 0.5524 - val_accuracy: 0.7245\n",
      "Epoch 39/100\n",
      "104/104 [==============================] - 247s 2s/step - loss: 0.5356 - accuracy: 0.8045 - val_loss: 0.4554 - val_accuracy: 0.7964\n",
      "Epoch 40/100\n",
      "104/104 [==============================] - 242s 2s/step - loss: 0.5171 - accuracy: 0.8114 - val_loss: 0.6201 - val_accuracy: 0.7734\n",
      "Epoch 41/100\n",
      "104/104 [==============================] - 256s 2s/step - loss: 0.5372 - accuracy: 0.8091 - val_loss: 0.6076 - val_accuracy: 0.7823\n",
      "Epoch 42/100\n",
      "104/104 [==============================] - 255s 2s/step - loss: 0.5289 - accuracy: 0.8104 - val_loss: 0.6195 - val_accuracy: 0.7771\n",
      "Epoch 43/100\n",
      "104/104 [==============================] - 303s 3s/step - loss: 0.5231 - accuracy: 0.8107 - val_loss: 0.7378 - val_accuracy: 0.7193\n",
      "Epoch 44/100\n",
      "104/104 [==============================] - 246s 2s/step - loss: 0.5101 - accuracy: 0.8168 - val_loss: 0.6058 - val_accuracy: 0.7688\n",
      "Epoch 45/100\n",
      "104/104 [==============================] - 253s 2s/step - loss: 0.4932 - accuracy: 0.8218 - val_loss: 0.4492 - val_accuracy: 0.8307\n",
      "Epoch 46/100\n",
      "104/104 [==============================] - 245s 2s/step - loss: 0.4786 - accuracy: 0.8269 - val_loss: 0.4569 - val_accuracy: 0.8266\n",
      "Epoch 47/100\n",
      "104/104 [==============================] - 246s 2s/step - loss: 0.4731 - accuracy: 0.8323 - val_loss: 0.4424 - val_accuracy: 0.8354\n",
      "Epoch 48/100\n",
      "104/104 [==============================] - 243s 2s/step - loss: 0.5033 - accuracy: 0.8206 - val_loss: 0.3238 - val_accuracy: 0.8677\n",
      "Epoch 49/100\n",
      "104/104 [==============================] - 252s 2s/step - loss: 0.4762 - accuracy: 0.8260 - val_loss: 0.5801 - val_accuracy: 0.7656\n",
      "Epoch 50/100\n",
      "104/104 [==============================] - 250s 2s/step - loss: 0.4583 - accuracy: 0.8311 - val_loss: 0.3817 - val_accuracy: 0.8328\n",
      "Epoch 51/100\n",
      "104/104 [==============================] - 252s 2s/step - loss: 0.4737 - accuracy: 0.8247 - val_loss: 0.4040 - val_accuracy: 0.8484\n",
      "Epoch 52/100\n",
      "104/104 [==============================] - 250s 2s/step - loss: 0.4483 - accuracy: 0.8453 - val_loss: 0.4040 - val_accuracy: 0.8349\n",
      "Epoch 53/100\n",
      "104/104 [==============================] - 250s 2s/step - loss: 0.4489 - accuracy: 0.8436 - val_loss: 0.4476 - val_accuracy: 0.8198\n",
      "Epoch 54/100\n",
      "104/104 [==============================] - 253s 2s/step - loss: 0.4301 - accuracy: 0.8475 - val_loss: 0.3934 - val_accuracy: 0.8318\n",
      "Epoch 55/100\n",
      "104/104 [==============================] - 251s 2s/step - loss: 0.4437 - accuracy: 0.8439 - val_loss: 0.4883 - val_accuracy: 0.8313\n",
      "Epoch 56/100\n",
      "104/104 [==============================] - 257s 2s/step - loss: 0.4192 - accuracy: 0.8520 - val_loss: 0.4616 - val_accuracy: 0.8479\n",
      "Epoch 57/100\n",
      "104/104 [==============================] - 299s 3s/step - loss: 0.4281 - accuracy: 0.8450 - val_loss: 0.3917 - val_accuracy: 0.8562\n",
      "Epoch 58/100\n",
      "104/104 [==============================] - 255s 2s/step - loss: 0.4244 - accuracy: 0.8525 - val_loss: 0.3328 - val_accuracy: 0.8719\n",
      "Epoch 59/100\n",
      "104/104 [==============================] - 254s 2s/step - loss: 0.4198 - accuracy: 0.8493 - val_loss: 0.3292 - val_accuracy: 0.8620\n",
      "Epoch 60/100\n",
      "104/104 [==============================] - 252s 2s/step - loss: 0.3954 - accuracy: 0.8577 - val_loss: 0.2502 - val_accuracy: 0.8974\n",
      "Epoch 61/100\n",
      "104/104 [==============================] - 248s 2s/step - loss: 0.3747 - accuracy: 0.8694 - val_loss: 0.2222 - val_accuracy: 0.9125\n",
      "Epoch 62/100\n",
      "104/104 [==============================] - 250s 2s/step - loss: 0.3928 - accuracy: 0.8603 - val_loss: 0.2464 - val_accuracy: 0.9089\n",
      "Epoch 63/100\n",
      "104/104 [==============================] - 300s 3s/step - loss: 0.3750 - accuracy: 0.8652 - val_loss: 0.2233 - val_accuracy: 0.8911\n",
      "Epoch 64/100\n",
      "104/104 [==============================] - 248s 2s/step - loss: 0.3852 - accuracy: 0.8613 - val_loss: 0.1829 - val_accuracy: 0.9198\n",
      "Epoch 65/100\n",
      "104/104 [==============================] - 302s 3s/step - loss: 0.3847 - accuracy: 0.8664 - val_loss: 0.2904 - val_accuracy: 0.8771\n",
      "Epoch 66/100\n",
      "104/104 [==============================] - 246s 2s/step - loss: 0.3632 - accuracy: 0.8743 - val_loss: 0.1482 - val_accuracy: 0.9443\n",
      "Epoch 67/100\n",
      "104/104 [==============================] - 252s 2s/step - loss: 0.3770 - accuracy: 0.8666 - val_loss: 0.3103 - val_accuracy: 0.8698\n",
      "Epoch 68/100\n",
      "104/104 [==============================] - 242s 2s/step - loss: 0.3542 - accuracy: 0.8774 - val_loss: 0.1876 - val_accuracy: 0.9161\n",
      "Epoch 69/100\n",
      "104/104 [==============================] - 247s 2s/step - loss: 0.3702 - accuracy: 0.8756 - val_loss: 0.1772 - val_accuracy: 0.9141\n",
      "Epoch 70/100\n",
      "104/104 [==============================] - 249s 2s/step - loss: 0.3683 - accuracy: 0.8715 - val_loss: 0.1805 - val_accuracy: 0.9229\n",
      "Epoch 71/100\n",
      "104/104 [==============================] - 247s 2s/step - loss: 0.3615 - accuracy: 0.8733 - val_loss: 0.1321 - val_accuracy: 0.9510\n",
      "Epoch 72/100\n",
      "104/104 [==============================] - 244s 2s/step - loss: 0.3491 - accuracy: 0.8770 - val_loss: 0.2451 - val_accuracy: 0.8854\n",
      "Epoch 73/100\n",
      "104/104 [==============================] - 303s 3s/step - loss: 0.3439 - accuracy: 0.8813 - val_loss: 0.1225 - val_accuracy: 0.9677\n",
      "Epoch 74/100\n",
      "104/104 [==============================] - 300s 3s/step - loss: 0.3545 - accuracy: 0.8733 - val_loss: 0.2511 - val_accuracy: 0.8865\n",
      "Epoch 75/100\n",
      "104/104 [==============================] - 249s 2s/step - loss: 0.3413 - accuracy: 0.8785 - val_loss: 0.1772 - val_accuracy: 0.9031\n",
      "Epoch 76/100\n",
      "104/104 [==============================] - 250s 2s/step - loss: 0.3178 - accuracy: 0.8878 - val_loss: 0.0790 - val_accuracy: 0.9802\n",
      "Epoch 77/100\n",
      "104/104 [==============================] - 244s 2s/step - loss: 0.3239 - accuracy: 0.8909 - val_loss: 0.1300 - val_accuracy: 0.9380\n",
      "Epoch 78/100\n",
      "104/104 [==============================] - 255s 2s/step - loss: 0.3243 - accuracy: 0.8894 - val_loss: 0.2271 - val_accuracy: 0.8922\n",
      "Epoch 79/100\n",
      "104/104 [==============================] - 252s 2s/step - loss: 0.3321 - accuracy: 0.8815 - val_loss: 0.1368 - val_accuracy: 0.9349\n",
      "Epoch 80/100\n",
      "104/104 [==============================] - 252s 2s/step - loss: 0.3125 - accuracy: 0.8903 - val_loss: 0.0805 - val_accuracy: 0.9771\n",
      "Epoch 81/100\n",
      "104/104 [==============================] - 252s 2s/step - loss: 0.3172 - accuracy: 0.8933 - val_loss: 0.1068 - val_accuracy: 0.9646\n",
      "Epoch 82/100\n",
      "104/104 [==============================] - 251s 2s/step - loss: 0.3259 - accuracy: 0.8855 - val_loss: 0.1770 - val_accuracy: 0.9161\n",
      "Epoch 83/100\n",
      "104/104 [==============================] - 251s 2s/step - loss: 0.3134 - accuracy: 0.8887 - val_loss: 0.1011 - val_accuracy: 0.9651\n",
      "Epoch 84/100\n",
      "104/104 [==============================] - 249s 2s/step - loss: 0.3104 - accuracy: 0.8890 - val_loss: 0.0890 - val_accuracy: 0.9724\n",
      "Epoch 85/100\n",
      "104/104 [==============================] - 254s 2s/step - loss: 0.3270 - accuracy: 0.8873 - val_loss: 0.1218 - val_accuracy: 0.9365\n",
      "Epoch 86/100\n",
      "104/104 [==============================] - 250s 2s/step - loss: 0.3057 - accuracy: 0.8932 - val_loss: 0.1006 - val_accuracy: 0.9531\n",
      "Epoch 87/100\n",
      "104/104 [==============================] - 245s 2s/step - loss: 0.3015 - accuracy: 0.8950 - val_loss: 0.1128 - val_accuracy: 0.9458\n",
      "Epoch 88/100\n",
      "104/104 [==============================] - 250s 2s/step - loss: 0.2984 - accuracy: 0.8972 - val_loss: 0.0858 - val_accuracy: 0.9740\n",
      "Epoch 89/100\n",
      "104/104 [==============================] - 302s 3s/step - loss: 0.2971 - accuracy: 0.8951 - val_loss: 0.0896 - val_accuracy: 0.9708\n",
      "Epoch 90/100\n",
      "104/104 [==============================] - 251s 2s/step - loss: 0.2966 - accuracy: 0.8941 - val_loss: 0.0580 - val_accuracy: 0.9922\n",
      "Epoch 91/100\n",
      "104/104 [==============================] - 297s 3s/step - loss: 0.3039 - accuracy: 0.8927 - val_loss: 0.0578 - val_accuracy: 0.9932\n",
      "Epoch 92/100\n",
      "104/104 [==============================] - 244s 2s/step - loss: 0.3034 - accuracy: 0.8981 - val_loss: 0.0788 - val_accuracy: 0.9839\n",
      "Epoch 93/100\n",
      "104/104 [==============================] - 305s 3s/step - loss: 0.2835 - accuracy: 0.9016 - val_loss: 0.0851 - val_accuracy: 0.9568\n",
      "Epoch 94/100\n",
      "104/104 [==============================] - 245s 2s/step - loss: 0.2964 - accuracy: 0.8966 - val_loss: 0.0964 - val_accuracy: 0.9609\n",
      "Epoch 95/100\n",
      "104/104 [==============================] - 250s 2s/step - loss: 0.2840 - accuracy: 0.8978 - val_loss: 0.0500 - val_accuracy: 0.9958\n",
      "Epoch 96/100\n",
      "104/104 [==============================] - 247s 2s/step - loss: 0.2891 - accuracy: 0.8985 - val_loss: 0.0368 - val_accuracy: 0.9979\n",
      "Epoch 97/100\n",
      "104/104 [==============================] - 253s 2s/step - loss: 0.3047 - accuracy: 0.8986 - val_loss: 0.0739 - val_accuracy: 0.9792\n",
      "Epoch 98/100\n",
      "104/104 [==============================] - 251s 2s/step - loss: 0.2826 - accuracy: 0.9040 - val_loss: 0.0873 - val_accuracy: 0.9641\n",
      "Epoch 99/100\n",
      "104/104 [==============================] - 249s 2s/step - loss: 0.2941 - accuracy: 0.8983 - val_loss: 0.1053 - val_accuracy: 0.9609\n",
      "Epoch 100/100\n",
      "104/104 [==============================] - 247s 2s/step - loss: 0.2783 - accuracy: 0.9025 - val_loss: 0.0912 - val_accuracy: 0.9615\n"
     ]
    }
   ],
   "source": [
    "history = model.fit_generator(generator = train_generator,\n",
    "                             steps_per_epoch = train_generator.samples//800,\n",
    "                             validation_data = validation_generator,\n",
    "                             validation_steps = test_generator.samples//16,\n",
    "                             epochs = 100,\n",
    "                             verbose = 1,\n",
    "                             max_queue_size = 100,\n",
    "                             workers = 4,\n",
    "                             use_multiprocessing = True,\n",
    "                             callbacks=[earlystop])"
   ]
  },
  {
   "cell_type": "code",
   "execution_count": 18,
   "id": "ba758ef1",
   "metadata": {
    "execution": {
     "iopub.execute_input": "2022-12-03T23:04:04.011756Z",
     "iopub.status.busy": "2022-12-03T23:04:04.011365Z",
     "iopub.status.idle": "2022-12-03T23:04:04.236463Z",
     "shell.execute_reply": "2022-12-03T23:04:04.235524Z"
    },
    "papermill": {
     "duration": 0.778876,
     "end_time": "2022-12-03T23:04:04.238571",
     "exception": false,
     "start_time": "2022-12-03T23:04:03.459695",
     "status": "completed"
    },
    "tags": []
   },
   "outputs": [
    {
     "data": {
      "text/plain": [
       "[<matplotlib.lines.Line2D at 0x7f48e92b9b10>]"
      ]
     },
     "execution_count": 18,
     "metadata": {},
     "output_type": "execute_result"
    },
    {
     "data": {
      "image/png": "[encoded data removed]",
      "text/plain": [
       "<Figure size 432x288 with 1 Axes>"
      ]
     },
     "metadata": {
      "needs_background": "light"
     },
     "output_type": "display_data"
    }
   ],
   "source": [
    "plt.plot(history.history['loss'],'r')\n",
    "plt.plot(history.history['val_loss'], 'b')"
   ]
  },
  {
   "cell_type": "code",
   "execution_count": 19,
   "id": "9b45cbe3",
   "metadata": {
    "execution": {
     "iopub.execute_input": "2022-12-03T23:04:05.334859Z",
     "iopub.status.busy": "2022-12-03T23:04:05.334303Z",
     "iopub.status.idle": "2022-12-03T23:04:05.537405Z",
     "shell.execute_reply": "2022-12-03T23:04:05.536510Z"
    },
    "papermill": {
     "duration": 0.753692,
     "end_time": "2022-12-03T23:04:05.539463",
     "exception": false,
     "start_time": "2022-12-03T23:04:04.785771",
     "status": "completed"
    },
    "tags": []
   },
   "outputs": [
    {
     "data": {
      "text/plain": [
       "[<matplotlib.lines.Line2D at 0x7f48e9260750>]"
      ]
     },
     "execution_count": 19,
     "metadata": {},
     "output_type": "execute_result"
    },
    {
     "data": {
      "image/png": "[encoded data removed]",
      "text/plain": [
       "<Figure size 432x288 with 1 Axes>"
      ]
     },
     "metadata": {
      "needs_background": "light"
     },
     "output_type": "display_data"
    }
   ],
   "source": [
    "plt.plot(history.history['accuracy'], 'r')\n",
    "plt.plot(history.history['val_accuracy'], 'b')"
   ]
  },
  {
   "cell_type": "code",
   "execution_count": 20,
   "id": "5beb0c0b",
   "metadata": {
    "execution": {
     "iopub.execute_input": "2022-12-03T23:04:06.743756Z",
     "iopub.status.busy": "2022-12-03T23:04:06.742699Z",
     "iopub.status.idle": "2022-12-03T23:04:06.958413Z",
     "shell.execute_reply": "2022-12-03T23:04:06.957307Z"
    },
    "papermill": {
     "duration": 0.871269,
     "end_time": "2022-12-03T23:04:06.961664",
     "exception": false,
     "start_time": "2022-12-03T23:04:06.090395",
     "status": "completed"
    },
    "tags": []
   },
   "outputs": [
    {
     "data": {
      "text/plain": [
       "[<matplotlib.lines.Line2D at 0x7f48e91e7350>]"
      ]
     },
     "execution_count": 20,
     "metadata": {},
     "output_type": "execute_result"
    },
    {
     "data": {
      "image/png": "[encoded data removed]",
      "text/plain": [
       "<Figure size 432x288 with 1 Axes>"
      ]
     },
     "metadata": {
      "needs_background": "light"
     },
     "output_type": "display_data"
    }
   ],
   "source": [
    "plt.plot(history.history['accuracy'], 'r')\n",
    "plt.plot(history.history['loss'],'b')"
   ]
  },
  {
   "cell_type": "code",
   "execution_count": 21,
   "id": "a56fe692",
   "metadata": {
    "execution": {
     "iopub.execute_input": "2022-12-03T23:04:08.488114Z",
     "iopub.status.busy": "2022-12-03T23:04:08.487603Z",
     "iopub.status.idle": "2022-12-03T23:04:08.700864Z",
     "shell.execute_reply": "2022-12-03T23:04:08.699864Z"
    },
    "papermill": {
     "duration": 0.877067,
     "end_time": "2022-12-03T23:04:08.703340",
     "exception": false,
     "start_time": "2022-12-03T23:04:07.826273",
     "status": "completed"
    },
    "tags": []
   },
   "outputs": [],
   "source": [
    "model.save('my_model.h5')"
   ]
  }
 ],
 "metadata": {
  "kernelspec": {
   "display_name": "Python 3",
   "language": "python",
   "name": "python3"
  },
  "language_info": {
   "codemirror_mode": {
    "name": "ipython",
    "version": 3
   },
   "file_extension": ".py",
   "mimetype": "text/x-python",
   "name": "python",
   "nbconvert_exporter": "python",
   "pygments_lexer": "ipython3",
   "version": "3.7.12"
  },
  "papermill": {
   "default_parameters": {},
   "duration": 26213.006876,
   "end_time": "2022-12-03T23:04:12.017732",
   "environment_variables": {},
   "exception": null,
   "input_path": "__notebook__.ipynb",
   "output_path": "__notebook__.ipynb",
   "parameters": {},
   "start_time": "2022-12-03T15:47:19.010856",
   "version": "2.3.4"
  }
 },
 "nbformat": 4,
 "nbformat_minor": 5
}
